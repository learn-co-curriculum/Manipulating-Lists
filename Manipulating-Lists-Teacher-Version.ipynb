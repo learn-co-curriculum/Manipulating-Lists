{
 "cells": [
  {
   "cell_type": "markdown",
   "metadata": {
    "slideshow": {
     "slide_type": "notes"
    }
   },
   "source": [
    "# Teacher Notes\n",
    "\n",
    "## Introduction\n",
    "\n",
    "This is an introductory exercise to give students additional practice in working with basic python data structures and methods. Encourage students to problem solve by using search engines and accessing documentation. Redemonstrate how to use tab completion to preview the available methods for a variable as well as how to pull up the documentation in jupyter notebook by appending a question mark at the end of a method. For example, once students have instantiated the variable cats, the can append a dot and press tab to see the available methods. From there, they can choose a specific one (such as sort) and pull up the documentation with `cats.sort?`. Giving students soft skills so they can begin building their own programming and problem solving skills independently is critical.\n",
    "\n",
    "## Learning Goals\n",
    "\n",
    "* Increase student fluency of lists and string methods\n",
    "    * Use the append method for strings\n",
    "    * Use the sort method for lists\n",
    "    * Iterate over lists using for loops or list comprehensions\n",
    "* Use a search enginge to problem solve\n",
    "* Read documentation\n",
    "\n",
    "## Prerequisite Knowledge\n",
    "\n",
    "Students should already have some exposure to basic python datatypes. "
   ]
  },
  {
   "cell_type": "markdown",
   "metadata": {
    "slideshow": {
     "slide_type": "slide"
    }
   },
   "source": [
    "## Paired Programming\n",
    "\n",
    "```cats = [‘Maine Coon’, ‘Tabby’, ’Siamese’, ‘Garfield’, ‘Sylvester’]```\n",
    "\n",
    "1. Create a new list cat_jrs by appending ‘Jr.’ to each of the cats names.\n",
    "2. Sort the list in alphabetical order.\n",
    "3. Look up a new string or list method and explain how it works.\n",
    "\n",
    "**Bonus:**\n",
    "    Sort the list by the 3rd letter of each name."
   ]
  },
  {
   "cell_type": "code",
   "execution_count": 3,
   "metadata": {
    "slideshow": {
     "slide_type": "slide"
    }
   },
   "outputs": [],
   "source": [
    "cats = ['Maine Coon', 'Tabby', 'Siamese', 'Garfield', 'Sylvester']"
   ]
  },
  {
   "cell_type": "markdown",
   "metadata": {
    "slideshow": {
     "slide_type": "notes"
    }
   },
   "source": [
    "# Teacher Notes\n",
    "\n",
    "\n",
    "Circulate to check student's progress on working with git. If a substantial portion of the class is struggling, bring the group together and ask a volunteer to help lead the class through this process. Assist this volunteer as needed until all students are able to complete the git portion. Then provide an additional 5-10 minutes for students to work on the list exercise itself.\n",
    "\n",
    "# Potential Solutions:\n",
    "\n",
    "```python\n",
    "cat_jrs = [] #Define the new variable cat_jrs (which is a list!!! hence the brackets)\n",
    "for cat in cats: #Start our for loop\n",
    "    cat = cat + \" Jr.\" #take this thing each and add \"Jr.\" store it in a variable called cat\n",
    "    cat_jrs.append(cat) #cat_jrs which is a list object then we're using a method\n",
    "cat_jrs.sort() #Question 2; Returns None\n",
    "cat_jrs.sort(key=lambda x: x[2]) #Bonus; good review of lambda functions\n",
    "```\n",
    "\n",
    "> Note: It is also worth reviewing alternative solutions to this problem including how to use list comprehensions.\n",
    "\n",
    "As a list comprehension:\n",
    "```cat_jrs = [cat + \" Jr.\" for cat in cats]```\n",
    "\n",
    "> **Common Misconception**: Point out that the alias for the iterable in a for loop is completely arbitrary. (Python does not know the english grammatical rule that a cat is the singular of cats.)  For example, in the above code snippet `for cat in cats` you could just as easily write `for c in cats` or `for item in cats`. You could even write `for superBadVerboseVariableName123 in cats`. The point is that whatever you alias the iterable as is what you should then reference in the indented code block Which will execute for each iteration of the loop. "
   ]
  }
 ],
 "metadata": {
  "celltoolbar": "Slideshow",
  "kernelspec": {
   "display_name": "Python 3",
   "language": "python",
   "name": "python3"
  },
  "language_info": {
   "codemirror_mode": {
    "name": "ipython",
    "version": 3
   },
   "file_extension": ".py",
   "mimetype": "text/x-python",
   "name": "python",
   "nbconvert_exporter": "python",
   "pygments_lexer": "ipython3",
   "version": "3.6.5"
  }
 },
 "nbformat": 4,
 "nbformat_minor": 2
}
